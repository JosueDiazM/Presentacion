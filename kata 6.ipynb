{
 "cells": [
  {
   "cell_type": "code",
   "execution_count": 10,
   "metadata": {},
   "outputs": [
    {
     "name": "stdout",
     "output_type": "stream",
     "text": [
      "Hay 8 en el sistema solar\n"
     ]
    }
   ],
   "source": [
    "planetas = ['mercurio', 'venus','tierra','marte','jupiter','saturno','neptuno', 'urano']\n",
    "print('Hay', len(planetas),'en el sistema solar')"
   ]
  },
  {
   "cell_type": "code",
   "execution_count": 11,
   "metadata": {},
   "outputs": [
    {
     "name": "stdout",
     "output_type": "stream",
     "text": [
      "Hay 9 en el sitema solar \n",
      "pluton es el ultimo planeta\n"
     ]
    }
   ],
   "source": [
    "planetas.append('pluton')\n",
    "print('Hay', len(planetas),'en el sitema solar ')\n",
    "print(planetas[-1], 'es el ultimo planeta')"
   ]
  },
  {
   "cell_type": "markdown",
   "metadata": {},
   "source": [
    "ejercicio 2"
   ]
  },
  {
   "cell_type": "code",
   "execution_count": 48,
   "metadata": {},
   "outputs": [],
   "source": [
    "planetas = ['mercurio', 'venus','tierra','marte','jupiter','saturno','neptuno', 'urano']"
   ]
  },
  {
   "cell_type": "code",
   "execution_count": 49,
   "metadata": {},
   "outputs": [],
   "source": [
    "planeta = input('¿que planeta quieres?')"
   ]
  },
  {
   "cell_type": "code",
   "execution_count": 50,
   "metadata": {},
   "outputs": [],
   "source": [
    "planeta_buscado = planetas.index(planeta)"
   ]
  },
  {
   "cell_type": "code",
   "execution_count": 51,
   "metadata": {},
   "outputs": [
    {
     "name": "stdout",
     "output_type": "stream",
     "text": [
      "los palnetas mas cercanos al sol a jupiter son\n",
      "['mercurio', 'venus', 'tierra', 'marte']\n"
     ]
    }
   ],
   "source": [
    "print('los palnetas mas cercanos al sol a ' + planeta, 'son')\n",
    "print(planetas[0:planeta_buscado])"
   ]
  },
  {
   "cell_type": "code",
   "execution_count": 52,
   "metadata": {},
   "outputs": [
    {
     "name": "stdout",
     "output_type": "stream",
     "text": [
      "los planetas mas lejanos del sol ajupiter son estos\n",
      "['saturno', 'neptuno', 'urano']\n"
     ]
    }
   ],
   "source": [
    "print('los planetas mas lejanos del sol a'+ planeta, 'son estos')\n",
    "print(planetas[planeta_buscado + 1:8])"
   ]
  }
 ],
 "metadata": {
  "interpreter": {
   "hash": "5c7aa5a4e1e5556d3d51304b73b53e6baeb1b1ca75150fa9ddca7a9289e633aa"
  },
  "kernelspec": {
   "display_name": "Python 3.10.2 64-bit (windows store)",
   "language": "python",
   "name": "python3"
  },
  "language_info": {
   "codemirror_mode": {
    "name": "ipython",
    "version": 3
   },
   "file_extension": ".py",
   "mimetype": "text/x-python",
   "name": "python",
   "nbconvert_exporter": "python",
   "pygments_lexer": "ipython3",
   "version": "3.10.2"
  },
  "orig_nbformat": 4
 },
 "nbformat": 4,
 "nbformat_minor": 2
}
