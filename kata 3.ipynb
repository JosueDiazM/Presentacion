{
 "cells": [
  {
   "cell_type": "code",
   "execution_count": 24,
   "metadata": {},
   "outputs": [
    {
     "name": "stdout",
     "output_type": "stream",
     "text": [
      "peligro inminente\n"
     ]
    }
   ],
   "source": [
    "vsalvada = 25\n",
    "asterioide = 49\n",
    "if asterioide <= vsalvada:\n",
    "    print('todo okey por hoy')\n",
    "else:\n",
    "    print('peligro inminente')"
   ]
  },
  {
   "cell_type": "code",
   "execution_count": 26,
   "metadata": {},
   "outputs": [
    {
     "name": "stdout",
     "output_type": "stream",
     "text": [
      "hoy no se ve nada\n"
     ]
    }
   ],
   "source": [
    "asterioide=19\n",
    "if asterioide >=20:\n",
    "    print(\"Mira esa luz en el cielo\")\n",
    "else: \n",
    "    print('hoy no se ve nada')"
   ]
  },
  {
   "cell_type": "code",
   "execution_count": 43,
   "metadata": {},
   "outputs": [
    {
     "name": "stdout",
     "output_type": "stream",
     "text": [
      "ve esa luz en el cielo\n"
     ]
    }
   ],
   "source": [
    "tamaño= 40\n",
    "velocidad= 25\n",
    "if tamaño<25:\n",
    "    print('el asteriode se va a desintegrar')\n",
    "elif tamaño>25 and velocidad>20:\n",
    "    print('el asteroide va a hacer mucho daño')\n",
    "elif velocidad >=25:\n",
    "    print('ve esa luz en el cielo')\n",
    "else:\n",
    "    print(\"no se ve nada\")\n"
   ]
  }
 ],
 "metadata": {
  "interpreter": {
   "hash": "f7d5b4a7e93e04c19fa7f7e901c846b6ab3c5661b8e55c7c2ad89a344fa55b18"
  },
  "kernelspec": {
   "display_name": "Python 3.10.2 64-bit",
   "language": "python",
   "name": "python3"
  },
  "language_info": {
   "codemirror_mode": {
    "name": "ipython",
    "version": 3
   },
   "file_extension": ".py",
   "mimetype": "text/x-python",
   "name": "python",
   "nbconvert_exporter": "python",
   "pygments_lexer": "ipython3",
   "version": "3.10.2"
  },
  "orig_nbformat": 4
 },
 "nbformat": 4,
 "nbformat_minor": 2
}
