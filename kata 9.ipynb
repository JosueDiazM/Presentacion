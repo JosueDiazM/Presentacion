{
 "cells": [
  {
   "cell_type": "markdown",
   "metadata": {},
   "source": [
    "Ejercicio 1"
   ]
  },
  {
   "cell_type": "code",
   "execution_count": 3,
   "metadata": {},
   "outputs": [],
   "source": [
    "def reporte_general(tanque_principal, tanque_1, tanque_2):\n",
    "    nivel_gas = (tanque_principal + tanque_1 + tanque_2) / 3\n",
    "    return f\"\"\"Reporte de gasolina:\n",
    "    Total : {nivel_gas}%\n",
    "    tanque principal: {tanque_principal}%\n",
    "    tanque No.1: {tanque_1}%\n",
    "    tanque No.2: {tanque_2}% \n",
    "    \"\"\""
   ]
  },
  {
   "cell_type": "code",
   "execution_count": 4,
   "metadata": {},
   "outputs": [
    {
     "name": "stdout",
     "output_type": "stream",
     "text": [
      "Reporte de gasolina:\n",
      "    Total : 78.33333333333333%\n",
      "    tanque principal: 80%\n",
      "    tanque No.1: 70%\n",
      "    tanque No.2: 85% \n",
      "    \n"
     ]
    }
   ],
   "source": [
    "print(reporte_general(80, 70, 85))"
   ]
  },
  {
   "cell_type": "code",
   "execution_count": 5,
   "metadata": {},
   "outputs": [
    {
     "data": {
      "text/plain": [
       "82.0"
      ]
     },
     "execution_count": 5,
     "metadata": {},
     "output_type": "execute_result"
    }
   ],
   "source": [
    "def promedio(values):\n",
    "    total = sum(values)\n",
    "    total_items = len(values)\n",
    "    return total / total_items\n",
    "\n",
    "promedio([80, 85, 81]) \n"
   ]
  },
  {
   "cell_type": "code",
   "execution_count": 6,
   "metadata": {},
   "outputs": [
    {
     "name": "stdout",
     "output_type": "stream",
     "text": [
      "Reporte de combustible:\n",
      "    promedio de combistible: 78.0%\n",
      "    tanque principal: 88%\n",
      "    tanque No. 1: 76%\n",
      "    tanque No. 2: 70% \n",
      "    \n"
     ]
    }
   ],
   "source": [
    "def reporte_general1(tanque_principal, tanque_1, tanque_2):\n",
    "    return f\"\"\"Reporte de combustible:\n",
    "    promedio de combistible: {promedio([tanque_principal, tanque_1, tanque_2])}%\n",
    "    tanque principal: {tanque_principal}%\n",
    "    tanque No. 1: {tanque_1}%\n",
    "    tanque No. 2: {tanque_2}% \n",
    "    \"\"\"\n",
    "print(reporte_general1(88, 76, 70))"
   ]
  },
  {
   "cell_type": "markdown",
   "metadata": {},
   "source": [
    "Ejercicio 2"
   ]
  },
  {
   "cell_type": "code",
   "execution_count": 7,
   "metadata": {},
   "outputs": [
    {
     "name": "stdout",
     "output_type": "stream",
     "text": [
      "\n",
      "    Mision a Luna\n",
      "    Ttiempo todal de vuelo: 65 minutos\n",
      "    combustibele restante: 500000 galone\n",
      "    \n"
     ]
    }
   ],
   "source": [
    "def reporte(prelanzamiento, tiempo_vuelo, destino, tanque_externo, tanque_principal):\n",
    "    return f\"\"\"\n",
    "    Mision a {destino}\n",
    "    Ttiempo todal de vuelo: {prelanzamiento + tiempo_vuelo} minutos\n",
    "    combustibele restante: {tanque_externo + tanque_principal} galone\n",
    "    \"\"\"\n",
    "\n",
    "print(reporte(14, 51, \"Luna\", 200000, 300000))"
   ]
  },
  {
   "cell_type": "code",
   "execution_count": 18,
   "metadata": {},
   "outputs": [
    {
     "name": "stdout",
     "output_type": "stream",
     "text": [
      "\n",
      "    Mision a Luna\n",
      "    Total travel time: 76 minutos\n",
      "    Total fuel left: 500000\n",
      "    \n"
     ]
    }
   ],
   "source": [
    "def reporte(destino, *minutos, **reserva):\n",
    "    return f\"\"\"\n",
    "    Mision a {destino}\n",
    "    Total travel time: {sum(minutos)} minutos\n",
    "    Total fuel left: {sum(reserva.values())}\n",
    "    \"\"\"\n",
    "\n",
    "print(reporte(\"Luna\", 10, 15, 51, principal=300000, externo=200000))"
   ]
  },
  {
   "cell_type": "code",
   "execution_count": 19,
   "metadata": {},
   "outputs": [
    {
     "name": "stdout",
     "output_type": "stream",
     "text": [
      "\n",
      "    Mision a Luna\n",
      "    tiempo total de vieje : 74 minutos\n",
      "    total de combustible restante: 500000 galones\n",
      "     tanque principal = 300000 galones restantes\n",
      " tanque externo = 200000 galones restantes\n",
      "\n"
     ]
    }
   ],
   "source": [
    "def reporte_mision(destino, *minutos, **reserva):\n",
    "    reporte_principal = f\"\"\"\n",
    "    Mision a {destino}\n",
    "    tiempo total de vieje : {sum(minutos)} minutos\n",
    "    total de combustible restante: {sum(reserva.values())} galones\n",
    "    \"\"\"\n",
    "    for tanque, galones in reserva.items():\n",
    "        reporte_principal += f\" tanque {tanque} = {galones} galones restantes\\n\"\n",
    "    return reporte_principal\n",
    "\n",
    "print(reporte_mision(\"Luna\", 8, 11, 55, principal=300000, externo=200000))"
   ]
  }
 ],
 "metadata": {
  "interpreter": {
   "hash": "f7d5b4a7e93e04c19fa7f7e901c846b6ab3c5661b8e55c7c2ad89a344fa55b18"
  },
  "kernelspec": {
   "display_name": "Python 3.10.2 64-bit",
   "language": "python",
   "name": "python3"
  },
  "language_info": {
   "codemirror_mode": {
    "name": "ipython",
    "version": 3
   },
   "file_extension": ".py",
   "mimetype": "text/x-python",
   "name": "python",
   "nbconvert_exporter": "python",
   "pygments_lexer": "ipython3",
   "version": "3.10.2"
  },
  "orig_nbformat": 4
 },
 "nbformat": 4,
 "nbformat_minor": 2
}
